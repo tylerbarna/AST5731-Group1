{
 "cells": [
  {
   "cell_type": "markdown",
   "metadata": {},
   "source": [
    "### AST 5731 \n",
    "#### Group 3 - Project 3\n",
    "#### Group Members: Thomas Atkins, Tyler Barna, Tore Boybei, and Haowen Zhong"
   ]
  },
  {
   "cell_type": "markdown",
   "metadata": {},
   "source": [
    "#### Contents"
   ]
  },
  {
   "cell_type": "markdown",
   "metadata": {},
   "source": [
    " 1. [Introduction](#introduction)\n",
    " 2. [Data](#data)  \n",
    "    2.1 [Importing Data](#importing-data)    \n",
    "    2.2 [Data Visualization](#visualization)\n",
    " 3. [Analysis](#analysis)   \n",
    "    3.1 [Components of Statistical Model](#model)  \n",
    "    3.2 [Prior Predictive Check](#prior)     \n",
    "    3.3 [Posterior](#posterior)     \n",
    "    3.4 [Sensitivity Analysis](#senstivity)  \n",
    "    3.5 [Posterior Predictive Check](#ppc)   \n",
    " 4. [Results](#results)"
   ]
  },
  {
   "cell_type": "markdown",
   "metadata": {},
   "source": [
    "### 1. Introduction \n",
    "<a id='introduction'></a>"
   ]
  },
  {
   "cell_type": "markdown",
   "metadata": {},
   "source": []
  },
  {
   "cell_type": "markdown",
   "metadata": {},
   "source": [
    "### 2. Data\n",
    "<a id='data'></a>"
   ]
  },
  {
   "cell_type": "markdown",
   "metadata": {},
   "source": []
  },
  {
   "cell_type": "markdown",
   "metadata": {},
   "source": [
    "Note: Our project was run on python 3.9.13, and an environment package detailing the versions for all packages used can be found [here](https://github.com/tylerbarna/AST5731-projects/blob/main/environment.yml)."
   ]
  },
  {
   "cell_type": "markdown",
   "metadata": {},
   "source": [
    "Importing packages used for project: "
   ]
  },
  {
   "cell_type": "code",
   "execution_count": 1,
   "metadata": {},
   "outputs": [],
   "source": [
    "import csv\n",
    "import dis\n",
    "import inspect\n",
    "import os\n",
    "import sys\n",
    "import time\n",
    "\n",
    "import astropy\n",
    "import matplotlib as mpl\n",
    "import matplotlib.pyplot as plt\n",
    "import numpy as np\n",
    "import pandas as pd\n",
    "import pymc as mc\n",
    "import random\n",
    "import scipy as sp\n",
    "import scipy.stats as stats\n",
    "import seaborn as sns\n",
    "import time\n",
    "import warnings\n",
    "import arviz as az\n",
    "warnings.filterwarnings('ignore')\n",
    "\n",
    "from astropy import units as u\n",
    "from astropy import constants as const\n",
    "from astropy.coordinates import SkyCoord\n",
    "from astropy.io import fits\n",
    "from astropy.io import ascii\n",
    "from astropy.time import Time\n",
    "from astropy.time import TimeDelta\n",
    "from astropy.timeseries import TimeSeries\n",
    "from astropy.visualization import time_support\n",
    "time_support()\n",
    "from astropy.visualization import quantity_support\n",
    "quantity_support()\n",
    "\n",
    "from IPython.display import display_html\n",
    "from IPython.display import Image\n",
    "\n",
    "from numpy import interp\n",
    "\n",
    "from scipy import integrate\n",
    "from scipy import linalg as la\n",
    "from scipy import optimize\n",
    "\n",
    "from scipy.stats import beta\n",
    "from scipy.stats import betabinom\n",
    "from scipy.stats import binom\n",
    "from scipy.stats import gamma\n",
    "from scipy.stats import invgamma\n",
    "from scipy.stats import multivariate_normal as mvn\n",
    "from scipy.stats import nbinom\n",
    "from scipy.stats import norm\n",
    "from scipy.stats import poisson\n",
    "from scipy.stats import t\n",
    "from scipy.stats import uniform\n",
    "\n",
    "from sklearn import preprocessing as pp\n",
    "\n",
    "%matplotlib inline\n",
    "plt.style.use(\"seaborn-colorblind\")\n",
    "mpl.rcParams.update({\"axes.grid\" : False})\n",
    "plt.style.context((\"seaborn-colorblind\",))\n",
    "plt.rc(\"text\", usetex=True)\n",
    "plt.rc(\"font\", family=\"serif\")\n",
    "## set seed for reproducibility\n",
    "random.seed(5731)"
   ]
  },
  {
   "cell_type": "markdown",
   "metadata": {},
   "source": [
    "#### 2.1 Importing Data\n",
    "<a id='importing'></a>  "
   ]
  },
  {
   "cell_type": "markdown",
   "metadata": {},
   "source": []
  },
  {
   "cell_type": "code",
   "execution_count": null,
   "metadata": {},
   "outputs": [],
   "source": []
  },
  {
   "cell_type": "markdown",
   "metadata": {},
   "source": [
    "#### 2.3 Data Visualization\n",
    "<a id='visualization'></a>"
   ]
  },
  {
   "cell_type": "markdown",
   "metadata": {},
   "source": []
  },
  {
   "cell_type": "code",
   "execution_count": null,
   "metadata": {},
   "outputs": [],
   "source": []
  },
  {
   "cell_type": "markdown",
   "metadata": {},
   "source": [
    "### 3. Bayesian Analysis\n",
    "<a id='analysis'></a>"
   ]
  },
  {
   "cell_type": "markdown",
   "metadata": {},
   "source": [
    "#### 3.1 Components of Statistical Model\n",
    "<a id='model'></a>"
   ]
  },
  {
   "cell_type": "markdown",
   "metadata": {},
   "source": []
  },
  {
   "cell_type": "code",
   "execution_count": null,
   "metadata": {},
   "outputs": [],
   "source": []
  },
  {
   "cell_type": "markdown",
   "metadata": {},
   "source": [
    "#### 3.2 Prior Predicitive Check\n",
    "<a id='prior'></a>"
   ]
  },
  {
   "cell_type": "markdown",
   "metadata": {},
   "source": []
  },
  {
   "cell_type": "code",
   "execution_count": null,
   "metadata": {
    "scrolled": true
   },
   "outputs": [],
   "source": []
  },
  {
   "cell_type": "markdown",
   "metadata": {},
   "source": [
    "#### 3.3 Posterior \n",
    "<a id='posterior'></a>"
   ]
  },
  {
   "cell_type": "markdown",
   "metadata": {},
   "source": []
  },
  {
   "cell_type": "code",
   "execution_count": null,
   "metadata": {},
   "outputs": [],
   "source": []
  },
  {
   "cell_type": "markdown",
   "metadata": {},
   "source": [
    "#### 3.4 Sensitivity Analysis\n",
    "<a id='sensitivity'></a>"
   ]
  },
  {
   "cell_type": "markdown",
   "metadata": {},
   "source": []
  },
  {
   "cell_type": "code",
   "execution_count": null,
   "metadata": {},
   "outputs": [],
   "source": []
  },
  {
   "cell_type": "markdown",
   "metadata": {},
   "source": [
    "#### 3.5 Posterior Predictive Check\n",
    "<a id='ppc'></a>"
   ]
  },
  {
   "cell_type": "markdown",
   "metadata": {},
   "source": []
  },
  {
   "cell_type": "code",
   "execution_count": null,
   "metadata": {},
   "outputs": [],
   "source": []
  },
  {
   "cell_type": "markdown",
   "metadata": {},
   "source": [
    "### 4. Results\n",
    "<a id='results'></a>"
   ]
  },
  {
   "cell_type": "markdown",
   "metadata": {},
   "source": []
  },
  {
   "cell_type": "code",
   "execution_count": null,
   "metadata": {},
   "outputs": [],
   "source": []
  }
 ],
 "metadata": {
  "kernelspec": {
   "display_name": "Python 3.9.13 ('ast5731')",
   "language": "python",
   "name": "python3"
  },
  "language_info": {
   "codemirror_mode": {
    "name": "ipython",
    "version": 3
   },
   "file_extension": ".py",
   "mimetype": "text/x-python",
   "name": "python",
   "nbconvert_exporter": "python",
   "pygments_lexer": "ipython3",
   "version": "3.9.13"
  },
  "vscode": {
   "interpreter": {
    "hash": "151f9495ada1c6bc4c2945de8ae9d396e597edb748e3954891ddc729604149b2"
   }
  }
 },
 "nbformat": 4,
 "nbformat_minor": 2
}
