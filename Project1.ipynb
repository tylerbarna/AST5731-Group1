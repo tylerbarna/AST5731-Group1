{
 "cells": [
  {
   "cell_type": "markdown",
   "metadata": {},
   "source": [
    "### AST 5731 \n",
    "#### Group 1 - Project 1\n",
    "#### Group Members: "
   ]
  },
  {
   "cell_type": "markdown",
   "metadata": {},
   "source": [
    "Style Notes (delete this cell prior to submission):\n",
    "I figured we can use '###' for sections in markdown, then '####' if we want subsections (in which case we would probably do x.y formatting for the subsections). It might be tidier if we have markdown cells then code in each section, but we could also alternate between the two if people think that would be better"
   ]
  },
  {
   "cell_type": "markdown",
   "metadata": {},
   "source": [
    " ##### Contents\n",
    " 1.   [Introduction](#introduction)\n",
    " 2.   [Data](#data)  \n",
    "    2.1 [Importing Data](#importing-data)    \n",
    "   2.2 [Data Processing](#processing)\n",
    " 3.   [Analysis](#analysis)   \n",
    "    3.1 [Sensitivity Analysis](#senstivity)\n",
    " 4.   [Results](#results)\n",
    " 5.   [Discussion](#discussion)"
   ]
  },
  {
   "cell_type": "markdown",
   "metadata": {},
   "source": [
    "### 1. Introduction \n",
    "<a id='introduction'></a>"
   ]
  },
  {
   "cell_type": "markdown",
   "metadata": {},
   "source": [
    "Discussion of the problem and the goals of the project/ the questions we are trying to answer.\n",
    "\n",
    "\n",
    "We will: \n",
    "1. Normalize the PDCSAP Flux data\n",
    "2. Calculate the average flux over time\n",
    "3. Determine the time range for each of the 14 transits\n",
    "4. Calculate the time and depth for each transit\n",
    "\n",
    "We will then run a Bayesian analysis on the transit depth data"
   ]
  },
  {
   "cell_type": "markdown",
   "metadata": {},
   "source": [
    "### 2. Data\n",
    "<a id='data'></a>"
   ]
  },
  {
   "cell_type": "markdown",
   "metadata": {},
   "source": [
    "Description of the data and how it was obtained (talk about TESS briefly I guess)"
   ]
  },
  {
   "cell_type": "markdown",
   "metadata": {},
   "source": [
    "Note: Our project was run on python 3.9.13, and an environment package detailing the versions for all packages used can be found [here](https://github.com/tylerbarna/AST5731-Group1/blob/main/environment.yml)."
   ]
  },
  {
   "cell_type": "markdown",
   "metadata": {},
   "source": [
    "Importing packages used for project:"
   ]
  },
  {
   "cell_type": "code",
   "execution_count": 7,
   "metadata": {},
   "outputs": [],
   "source": [
    "import csv\n",
    "import dis\n",
    "import inspect\n",
    "import os\n",
    "import sys\n",
    "import time\n",
    "\n",
    "\n",
    "import astropy\n",
    "import astroquery\n",
    "import eleanor ## alternative for TESS data analysis\n",
    "import lightkurve as lk ## for importing and manipulating TESS data\n",
    "import matplotlib as mpl\n",
    "import matplotlib.pyplot as plt\n",
    "import numpy as np\n",
    "import pandas as pd\n",
    "import random\n",
    "import scipy as sp\n",
    "import scipy.stats as stats\n",
    "import seaborn as sns\n",
    "import time\n",
    "import warnings\n",
    "warnings.filterwarnings('ignore')\n",
    "\n",
    "from astropy import units as u\n",
    "from astropy.io import fits\n",
    "from astropy.coordinates import SkyCoord\n",
    "from astropy.time import Time\n",
    "from astropy.time import TimeDelta\n",
    "from astropy.timeseries import TimeSeries\n",
    "from astropy.visualization import time_support\n",
    "time_support()\n",
    "from astropy.visualization import quantity_support\n",
    "quantity_support()\n",
    "\n",
    "from lightkurve import search_targetpixelfile\n",
    "\n",
    "from sklearn import preprocessing as pp\n",
    "\n",
    "from scipy import linalg as la\n",
    "from scipy import optimize\n",
    "from scipy import integrate\n",
    "\n",
    "from scipy.stats import norm\n",
    "from scipy.stats import beta\n",
    "from scipy.stats import binom\n",
    "\n",
    "from IPython.display import display_html\n",
    "from IPython.display import Image\n",
    "\n",
    "%matplotlib inline\n",
    "\n",
    "## set seed for reproducibility\n",
    "random.seed(5731)"
   ]
  },
  {
   "cell_type": "markdown",
   "metadata": {},
   "source": [
    "#### 2.1 Importing Data\n",
    "<a id='importing'></a>  "
   ]
  },
  {
   "cell_type": "markdown",
   "metadata": {},
   "source": [
    "While it is possible to search for and import data directly from an online database using the lightkurve package, we found this unprocessed data to be more difficult to work with, as the lighkurve method does not filter data particularly well. Instead, we opted to use data from MAST, which was processed by the TESS Science Office to reduce outliers caused by instrumental effects and the orbit of TESS. "
   ]
  },
  {
   "cell_type": "code",
   "execution_count": 2,
   "metadata": {},
   "outputs": [
    {
     "name": "stdout",
     "output_type": "stream",
     "text": [
      "Filename: ./data/lc.fits\n",
      "No.    Name      Ver    Type      Cards   Dimensions   Format\n",
      "  0  PRIMARY       1 PrimaryHDU      44   ()      \n",
      "  1  LIGHTCURVE    1 BinTableHDU    167   18231R x 20C   [D, E, J, E, E, E, E, E, E, J, D, E, D, E, D, E, D, E, E, E]   \n",
      "  2  APERTURE      1 ImageHDU        49   (11, 11)   int32   \n",
      "\n",
      "<class 'pandas.core.frame.DataFrame'>\n",
      "RangeIndex: 18231 entries, 0 to 18230\n",
      "Data columns (total 20 columns):\n",
      " #   Column           Non-Null Count  Dtype  \n",
      "---  ------           --------------  -----  \n",
      " 0   TIME             17457 non-null  float64\n",
      " 1   TIMECORR         18231 non-null  float32\n",
      " 2   CADENCENO        18231 non-null  int32  \n",
      " 3   SAP_FLUX         17411 non-null  float32\n",
      " 4   SAP_FLUX_ERR     17411 non-null  float32\n",
      " 5   SAP_BKG          17411 non-null  float32\n",
      " 6   SAP_BKG_ERR      17411 non-null  float32\n",
      " 7   PDCSAP_FLUX      16855 non-null  float32\n",
      " 8   PDCSAP_FLUX_ERR  16855 non-null  float32\n",
      " 9   QUALITY          18231 non-null  int32  \n",
      " 10  PSF_CENTR1       0 non-null      float64\n",
      " 11  PSF_CENTR1_ERR   0 non-null      float32\n",
      " 12  PSF_CENTR2       0 non-null      float64\n",
      " 13  PSF_CENTR2_ERR   0 non-null      float32\n",
      " 14  MOM_CENTR1       17411 non-null  float64\n",
      " 15  MOM_CENTR1_ERR   17411 non-null  float32\n",
      " 16  MOM_CENTR2       17411 non-null  float64\n",
      " 17  MOM_CENTR2_ERR   17411 non-null  float32\n",
      " 18  POS_CORR1        17411 non-null  float32\n",
      " 19  POS_CORR2        17411 non-null  float32\n",
      "dtypes: float32(13), float64(5), int32(2)\n",
      "memory usage: 1.7 MB\n"
     ]
    }
   ],
   "source": [
    "## read in data using astropy.io.fits \n",
    "fits_file = fits.open('./data/lc.fits')\n",
    "fits_file.info()\n",
    "print()\n",
    "\n",
    "## read in the light curve data as a pandas dataframe\n",
    "df = pd.DataFrame(fits_file[1].data)\n",
    "df.info()\n"
   ]
  },
  {
   "cell_type": "markdown",
   "metadata": {},
   "source": [
    "Note: do we want to make any cuts based on the quality column?"
   ]
  },
  {
   "cell_type": "markdown",
   "metadata": {},
   "source": [
    "Now, let's plot the light curve!"
   ]
  },
  {
   "cell_type": "code",
   "execution_count": 3,
   "metadata": {},
   "outputs": [
    {
     "data": {
      "image/png": "[encoded data removed]",
      "text/plain": [
       "<Figure size 720x360 with 1 Axes>"
      ]
     },
     "metadata": {
      "needs_background": "light"
     },
     "output_type": "display_data"
    },
    {
     "data": {
      "image/png": "[encoded data removed]",
      "text/plain": [
       "<Figure size 720x360 with 1 Axes>"
      ]
     },
     "metadata": {
      "needs_background": "light"
     },
     "output_type": "display_data"
    }
   ],
   "source": [
    "## plot raw flux data (sap_flux)\n",
    "df.plot(x='TIME', y='SAP_FLUX', yerr='SAP_FLUX_ERR', figsize=(10,5), color='black', label='SAP Flux', title='Raw TESS Light Curve')\n",
    "plt.xlabel('Time (BJD - 2457000)');\n",
    "plt.ylabel('Flux (e-/s)');\n",
    "plt.show();\n",
    "\n",
    "## plot the reduced data (pdcsap_flux)\n",
    "df.plot(x='TIME', y='PDCSAP_FLUX', yerr='PDCSAP_FLUX_ERR', figsize=(10,5), color='black', label='PDCSAP Flux', title='Reduced TESS Light Curve')\n",
    "plt.xlabel('Time (BJD - 2457000)');\n",
    "plt.ylabel('Flux (e-/s)');\n",
    "plt.show();"
   ]
  },
  {
   "cell_type": "markdown",
   "metadata": {},
   "source": [
    "The \"SAP_FLUX\" column represents the unprocessed lightcurve data, whereas the the \"PDCSAP_FLUX\" column represents the processed lightcurve data. One can clearly see that the latter plot has significantly fewer outliers. This makes it easier to detect actual transits and the mean flux value will be more representative of the actual baseline. As a result, we will be using the processed data for our analysis."
   ]
  },
  {
   "cell_type": "markdown",
   "metadata": {},
   "source": [
    "2.2 Data Processing \n",
    "<a id='processing'></a>  "
   ]
  },
  {
   "cell_type": "markdown",
   "metadata": {},
   "source": [
    "To make analysis easier, we will be normalizing the data. This will be accomplished by using the equation\n",
    "$$\n",
    "\\begin{equation}\n",
    "norm(x) = \\frac{x-x_{max}}{x_{max}-x_{min}}\n",
    "\\end{equation}\n",
    "$$\n",
    "where $x_{max}$ and $x_{min}$ are the maximum and minimum values, respectively, and $norm(x)$ is the resulting normalized flux value. The same equation will be used to normalize the flux error"
   ]
  },
  {
   "cell_type": "code",
   "execution_count": 19,
   "metadata": {},
   "outputs": [
    {
     "name": "stdout",
     "output_type": "stream",
     "text": [
      "Max Flux: 8609.421875 e/s\n",
      "Min Flux: 8478.0234375 e/s\n"
     ]
    },
    {
     "data": {
      "image/png": "[encoded data removed]",
      "text/plain": [
       "<Figure size 720x360 with 1 Axes>"
      ]
     },
     "metadata": {
      "needs_background": "light"
     },
     "output_type": "display_data"
    }
   ],
   "source": [
    "## retreive the flux data and flux error as numpy arrays to process\n",
    "flux = df['PDCSAP_FLUX'].astype(float)\n",
    "flux_err = df['PDCSAP_FLUX_ERR'].astype(float)\n",
    "\n",
    "## find the max and min flux values\n",
    "max_flux = np.max(flux)\n",
    "min_flux = np.min(flux)\n",
    "\n",
    "print('Max Flux: %s e/s'% max_flux)\n",
    "print('Min Flux: %s e/s'% min_flux)\n",
    "\n",
    "## define normalization function and \n",
    "norm = lambda x: np.abs((x - np.min(x))/(np.max(x) - np.min(x)))\n",
    "#norm = lambda x: x/mean_flux\n",
    "norm_flux = norm(flux)\n",
    "norm_flux_err = norm(flux_err)\n",
    "\n",
    "## add normalized flux and flux error to the dataframe\n",
    "df['NORM_FLUX'] = norm_flux\n",
    "df['NORM_FLUX_ERR'] = norm_flux_err\n",
    "\n",
    "## plot the normalized flux data\n",
    "df.plot(x='TIME', y='NORM_FLUX', yerr='NORM_FLUX_ERR', figsize=(10,5), color='black', label='Normalized Flux', title='Normalized TESS Light Curve')\n",
    "plt.xlabel('Time (BJD - 2457000)');\n",
    "plt.ylabel('Normalized Flux');  \n",
    "plt.show();"
   ]
  },
  {
   "cell_type": "markdown",
   "metadata": {},
   "source": [
    "In order to perform data analysis, we need to seperate the transits into individual light curves. In total, there are 14 transits in the data set."
   ]
  },
  {
   "cell_type": "code",
   "execution_count": null,
   "metadata": {},
   "outputs": [],
   "source": [
    "## define function to seperate data into transits and plot them in subplots\n"
   ]
  },
  {
   "cell_type": "markdown",
   "metadata": {},
   "source": [
    "### 3. Analysis\n",
    "<a id='analysis'></a>"
   ]
  },
  {
   "cell_type": "markdown",
   "metadata": {},
   "source": [
    "describe the model and what decisions we made in markdown, then do the analysis in python code cells"
   ]
  },
  {
   "cell_type": "markdown",
   "metadata": {},
   "source": [
    "### 3.1 Sensitivity Analysis\n",
    "<a id='sensitivity'></a>"
   ]
  },
  {
   "cell_type": "code",
   "execution_count": null,
   "metadata": {},
   "outputs": [],
   "source": []
  },
  {
   "cell_type": "markdown",
   "metadata": {},
   "source": [
    "### 4. Results\n",
    "<a id='results'></a>"
   ]
  },
  {
   "cell_type": "markdown",
   "metadata": {},
   "source": [
    "describe what we found and how we found it in markdown, then show plots and various things in python cells"
   ]
  },
  {
   "cell_type": "markdown",
   "metadata": {},
   "source": [
    "### 5. Discussion\n",
    "<a id='discussion'></a>"
   ]
  },
  {
   "cell_type": "markdown",
   "metadata": {},
   "source": [
    "Maybe describe what we've learned? I'm not sure, this may be uneccessary"
   ]
  }
 ],
 "metadata": {
  "kernelspec": {
   "display_name": "Python 3.9.13 ('ast5731')",
   "language": "python",
   "name": "python3"
  },
  "language_info": {
   "codemirror_mode": {
    "name": "ipython",
    "version": 3
   },
   "file_extension": ".py",
   "mimetype": "text/x-python",
   "name": "python",
   "nbconvert_exporter": "python",
   "pygments_lexer": "ipython3",
   "version": "3.9.13"
  },
  "orig_nbformat": 4,
  "vscode": {
   "interpreter": {
    "hash": "48ba337186cdeb473066c6f1845eedde2b671a74890cc3a14f1c7d6e319b96ea"
   }
  }
 },
 "nbformat": 4,
 "nbformat_minor": 2
}
