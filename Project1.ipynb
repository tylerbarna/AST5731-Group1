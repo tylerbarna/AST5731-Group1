{
 "cells": [
  {
   "cell_type": "markdown",
   "metadata": {},
   "source": [
    "### AST 5731 \n",
    "#### Group 1 - Project 1\n",
    "#### Group Members: "
   ]
  },
  {
   "cell_type": "markdown",
   "metadata": {},
   "source": []
  },
  {
   "cell_type": "code",
   "execution_count": null,
   "metadata": {},
   "outputs": [],
   "source": [
    "## Import libraries\n",
    "import csv\n",
    "import dis\n",
    "import inspect\n",
    "import os\n",
    "import sys\n",
    "import time\n",
    "\n",
    "\n",
    "import astropy\n",
    "import astroquery\n",
    "import eleanor\n",
    "import lightkurve as lk\n",
    "import matplotlib as mpl\n",
    "import matplotlib.pyplot as plt\n",
    "import numpy as np\n",
    "import pandas as pd\n",
    "import random\n",
    "import scipy as sp\n",
    "import scipy.stats as stats\n",
    "import seaborn as sns\n",
    "import time\n",
    "import warnings\n",
    "warnings.filterwarnings('ignore')\n",
    "\n",
    "from astropy import units as u\n",
    "from astropy.coordinates import SkyCoord\n",
    "from astropy.time import Time\n",
    "from astropy.time import TimeDelta\n",
    "from astropy.timeseries import TimeSeries\n",
    "from astropy.visualization import time_support\n",
    "time_support()\n",
    "from astropy.visualization import quantity_support\n",
    "quantity_support()\n",
    "\n",
    "from lightkurve import search_targetpixelfile\n",
    "\n",
    "from scipy import linalg as la\n",
    "from scipy import optimize\n",
    "from scipy import integrate\n",
    "\n",
    "from scipy.stats import norm\n",
    "from scipy.stats import beta\n",
    "from scipy.stats import binom\n",
    "\n",
    "from IPython.display import display_html\n",
    "from IPython.display import Image\n",
    "\n",
    "%matplotlib inline\n",
    "\n",
    "## set seed for reproducibility\n",
    "random.seed(5731)"
   ]
  }
 ],
 "metadata": {
  "kernelspec": {
   "display_name": "Python 3.10.4 64-bit",
   "language": "python",
   "name": "python3"
  },
  "language_info": {
   "name": "python",
   "version": "3.10.4"
  },
  "orig_nbformat": 4,
  "vscode": {
   "interpreter": {
    "hash": "916dbcbb3f70747c44a77c7bcd40155683ae19c65e1c03b4aa3499c5328201f1"
   }
  }
 },
 "nbformat": 4,
 "nbformat_minor": 2
}
