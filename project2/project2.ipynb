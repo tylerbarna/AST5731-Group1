{
 "cells": [
  {
   "cell_type": "markdown",
   "metadata": {},
   "source": [
    "# Note: in markdown cells, It's probably easiest to leave any notes we intend to remove before submission with red text or something along those lines. That way, we can easily find them later and remove them before submitting. \n",
    "\n",
    "Red text can be added in markdown cells with the following syntax: \\<font color='red'\\>text\\</font\\> (replace 'text' with the text you want to be red). It'll look like this: <font color='red'>text</font>\n"
   ]
  },
  {
   "cell_type": "markdown",
   "metadata": {},
   "source": [
    "### AST 5731 \n",
    "#### Group 3 - Project 2\n",
    "#### Group Members: Thomas Atkins, Tyler Barna, Tore Boybei, and Haowen Zhong"
   ]
  },
  {
   "cell_type": "markdown",
   "metadata": {},
   "source": [
    "#### Contents\n",
    "\n",
    "<font color='red'> the hyperlinks won't work when viewing the notebook on github, but they should work when viewing the notebook on jupyter notebook or when exported as an html file </font>\n",
    "\n",
    "<font color='red'>some of these sections may not be necessary/some more may be needed</font>"
   ]
  },
  {
   "cell_type": "markdown",
   "metadata": {},
   "source": [
    " 1. [Introduction](#introduction)\n",
    " 2. [Data](#data)  \n",
    "    2.1 [Importing Data](#importing-data)    \n",
    "    2.2 [Data Processing](#processing)  \n",
    "    2.3 [Data Visualization](#visualization)\n",
    " 3. [Analysis](#analysis)   \n",
    "    3.1 [Components of Statistical Model](#model)  \n",
    "    3.2 [Prior Predictive Check](#prior)     \n",
    "    3.3 [Posterior](#posterior)     \n",
    "    3.4 [Sensitivity Analysis](#senstivity)\n",
    " 4. [Results](#results)"
   ]
  },
  {
   "cell_type": "markdown",
   "metadata": {},
   "source": [
    "### 1. Introduction \n",
    "<a id='introduction'></a>"
   ]
  },
  {
   "cell_type": "markdown",
   "metadata": {},
   "source": []
  },
  {
   "cell_type": "markdown",
   "metadata": {},
   "source": [
    "### 2. Data\n",
    "<a id='data'></a>"
   ]
  },
  {
   "cell_type": "markdown",
   "metadata": {},
   "source": []
  },
  {
   "cell_type": "markdown",
   "metadata": {},
   "source": [
    "Note: Our project was run on python 3.9.13, and an environment package detailing the versions for all packages used can be found [here](https://github.com/tylerbarna/AST5731-projects/blob/main/environment.yml)."
   ]
  },
  {
   "cell_type": "markdown",
   "metadata": {},
   "source": [
    "Importing packages used for project: \n",
    "\n",
    "<font color='red'> not all of these may end up being needed, can remove stray packages at end</font>"
   ]
  },
  {
   "cell_type": "code",
   "execution_count": 1,
   "metadata": {},
   "outputs": [],
   "source": [
    "import csv\n",
    "import dis\n",
    "import inspect\n",
    "import os\n",
    "import sys\n",
    "import time\n",
    "\n",
    "import astropy\n",
    "import astroquery\n",
    "import matplotlib as mpl\n",
    "import matplotlib.pyplot as plt\n",
    "import numpy as np\n",
    "import pandas as pd\n",
    "import pymc as pm\n",
    "import random\n",
    "import scipy as sp\n",
    "import scipy.stats as stats\n",
    "import seaborn as sns\n",
    "import time\n",
    "import warnings\n",
    "warnings.filterwarnings('ignore')\n",
    "\n",
    "from astropy import units as u\n",
    "from astropy import constants as const\n",
    "from astropy.coordinates import SkyCoord\n",
    "from astropy.io import fits\n",
    "from astropy.io import ascii\n",
    "from astropy.time import Time\n",
    "from astropy.time import TimeDelta\n",
    "from astropy.timeseries import TimeSeries\n",
    "from astropy.visualization import time_support\n",
    "time_support()\n",
    "from astropy.visualization import quantity_support\n",
    "quantity_support()\n",
    "\n",
    "from IPython.display import display_html\n",
    "from IPython.display import Image\n",
    "\n",
    "from numpy import interp\n",
    "\n",
    "from scipy import integrate\n",
    "from scipy import linalg as la\n",
    "from scipy import optimize\n",
    "\n",
    "from scipy.stats import beta\n",
    "from scipy.stats import betabinom\n",
    "from scipy.stats import binom\n",
    "from scipy.stats import gamma\n",
    "from scipy.stats import invgamma\n",
    "from scipy.stats import multivariate_normal as mvn\n",
    "from scipy.stats import nbinom\n",
    "from scipy.stats import norm\n",
    "from scipy.stats import poisson\n",
    "from scipy.stats import t\n",
    "from scipy.stats import uniform\n",
    "\n",
    "from sklearn import preprocessing as pp\n",
    "\n",
    "%matplotlib inline\n",
    "\n",
    "## set seed for reproducibility\n",
    "random.seed(5731)"
   ]
  },
  {
   "cell_type": "markdown",
   "metadata": {},
   "source": [
    "#### 2.1 Importing Data\n",
    "<a id='importing'></a>  "
   ]
  },
  {
   "cell_type": "markdown",
   "metadata": {},
   "source": []
  },
  {
   "cell_type": "code",
<<<<<<< Updated upstream
   "execution_count": null,
   "metadata": {},
   "outputs": [],
   "source": []
  },
  {
   "cell_type": "markdown",
   "metadata": {},
=======
   "execution_count": 2,
   "metadata": {},
   "outputs": [
    {
     "data": {
      "text/html": [
       "<div>\n",
       "<style scoped>\n",
       "    .dataframe tbody tr th:only-of-type {\n",
       "        vertical-align: middle;\n",
       "    }\n",
       "\n",
       "    .dataframe tbody tr th {\n",
       "        vertical-align: top;\n",
       "    }\n",
       "\n",
       "    .dataframe thead th {\n",
       "        text-align: right;\n",
       "    }\n",
       "</style>\n",
       "<table border=\"1\" class=\"dataframe\">\n",
       "  <thead>\n",
       "    <tr style=\"text-align: right;\">\n",
       "      <th></th>\n",
       "      <th>Galaxy</th>\n",
       "      <th>Type</th>\n",
       "      <th>N_GC</th>\n",
       "      <th>N_GC_err</th>\n",
       "      <th>Mdyn</th>\n",
       "      <th>MBH</th>\n",
       "      <th>sig_e</th>\n",
       "      <th>sig_e_err</th>\n",
       "      <th>A_V</th>\n",
       "      <th>MV_T</th>\n",
       "      <th>MV_T_err</th>\n",
       "      <th>MK</th>\n",
       "      <th>Re</th>\n",
       "      <th>upMBH</th>\n",
       "      <th>lowMBH</th>\n",
       "    </tr>\n",
       "  </thead>\n",
       "  <tbody>\n",
       "    <tr>\n",
       "      <th>1</th>\n",
       "      <td>MilkyWay</td>\n",
       "      <td>S</td>\n",
       "      <td>160.0</td>\n",
       "      <td>10.0</td>\n",
       "      <td>9.856</td>\n",
       "      <td>6.61</td>\n",
       "      <td>105.0</td>\n",
       "      <td>20.0</td>\n",
       "      <td>0.000</td>\n",
       "      <td>-21.30</td>\n",
       "      <td>0.30</td>\n",
       "      <td>NaN</td>\n",
       "      <td>0.70</td>\n",
       "      <td>0.04</td>\n",
       "      <td>0.04</td>\n",
       "    </tr>\n",
       "    <tr>\n",
       "      <th>2</th>\n",
       "      <td>WLM</td>\n",
       "      <td>Irr</td>\n",
       "      <td>1.0</td>\n",
       "      <td>0.0</td>\n",
       "      <td>NaN</td>\n",
       "      <td>NaN</td>\n",
       "      <td>NaN</td>\n",
       "      <td>NaN</td>\n",
       "      <td>0.088</td>\n",
       "      <td>-14.84</td>\n",
       "      <td>0.20</td>\n",
       "      <td>NaN</td>\n",
       "      <td>NaN</td>\n",
       "      <td>NaN</td>\n",
       "      <td>NaN</td>\n",
       "    </tr>\n",
       "    <tr>\n",
       "      <th>3</th>\n",
       "      <td>NGC7814</td>\n",
       "      <td>S</td>\n",
       "      <td>150.0</td>\n",
       "      <td>40.0</td>\n",
       "      <td>10.879</td>\n",
       "      <td>NaN</td>\n",
       "      <td>169.2</td>\n",
       "      <td>7.2</td>\n",
       "      <td>0.147</td>\n",
       "      <td>-20.18</td>\n",
       "      <td>0.28</td>\n",
       "      <td>-23.531</td>\n",
       "      <td>2.84</td>\n",
       "      <td>NaN</td>\n",
       "      <td>NaN</td>\n",
       "    </tr>\n",
       "    <tr>\n",
       "      <th>4</th>\n",
       "      <td>NGC55</td>\n",
       "      <td>S</td>\n",
       "      <td>36.0</td>\n",
       "      <td>15.0</td>\n",
       "      <td>NaN</td>\n",
       "      <td>NaN</td>\n",
       "      <td>NaN</td>\n",
       "      <td>NaN</td>\n",
       "      <td>0.036</td>\n",
       "      <td>-18.77</td>\n",
       "      <td>0.20</td>\n",
       "      <td>-20.356</td>\n",
       "      <td>2.31</td>\n",
       "      <td>NaN</td>\n",
       "      <td>NaN</td>\n",
       "    </tr>\n",
       "    <tr>\n",
       "      <th>5</th>\n",
       "      <td>NGC147</td>\n",
       "      <td>E</td>\n",
       "      <td>10.0</td>\n",
       "      <td>2.0</td>\n",
       "      <td>8.408</td>\n",
       "      <td>NaN</td>\n",
       "      <td>22.0</td>\n",
       "      <td>5.0</td>\n",
       "      <td>0.475</td>\n",
       "      <td>-15.46</td>\n",
       "      <td>0.30</td>\n",
       "      <td>-17.254</td>\n",
       "      <td>0.57</td>\n",
       "      <td>NaN</td>\n",
       "      <td>NaN</td>\n",
       "    </tr>\n",
       "  </tbody>\n",
       "</table>\n",
       "</div>"
      ],
      "text/plain": [
       "     Galaxy Type   N_GC  N_GC_err    Mdyn   MBH  sig_e  sig_e_err    A_V  \\\n",
       "1  MilkyWay    S  160.0      10.0   9.856  6.61  105.0       20.0  0.000   \n",
       "2       WLM  Irr    1.0       0.0     NaN   NaN    NaN        NaN  0.088   \n",
       "3   NGC7814    S  150.0      40.0  10.879   NaN  169.2        7.2  0.147   \n",
       "4     NGC55    S   36.0      15.0     NaN   NaN    NaN        NaN  0.036   \n",
       "5    NGC147    E   10.0       2.0   8.408   NaN   22.0        5.0  0.475   \n",
       "\n",
       "    MV_T  MV_T_err      MK    Re  upMBH  lowMBH  \n",
       "1 -21.30      0.30     NaN  0.70   0.04    0.04  \n",
       "2 -14.84      0.20     NaN   NaN    NaN     NaN  \n",
       "3 -20.18      0.28 -23.531  2.84    NaN     NaN  \n",
       "4 -18.77      0.20 -20.356  2.31    NaN     NaN  \n",
       "5 -15.46      0.30 -17.254  0.57    NaN     NaN  "
      ]
     },
     "metadata": {},
     "output_type": "display_data"
    },
    {
     "data": {
      "text/html": [
       "<div>\n",
       "<style scoped>\n",
       "    .dataframe tbody tr th:only-of-type {\n",
       "        vertical-align: middle;\n",
       "    }\n",
       "\n",
       "    .dataframe tbody tr th {\n",
       "        vertical-align: top;\n",
       "    }\n",
       "\n",
       "    .dataframe thead th {\n",
       "        text-align: right;\n",
       "    }\n",
       "</style>\n",
       "<table border=\"1\" class=\"dataframe\">\n",
       "  <thead>\n",
       "    <tr style=\"text-align: right;\">\n",
       "      <th></th>\n",
       "      <th>N_GC</th>\n",
       "      <th>N_GC_err</th>\n",
       "      <th>Mdyn</th>\n",
       "      <th>MBH</th>\n",
       "      <th>sig_e</th>\n",
       "      <th>sig_e_err</th>\n",
       "      <th>A_V</th>\n",
       "      <th>MV_T</th>\n",
       "      <th>MV_T_err</th>\n",
       "      <th>MK</th>\n",
       "      <th>Re</th>\n",
       "      <th>upMBH</th>\n",
       "      <th>lowMBH</th>\n",
       "    </tr>\n",
       "  </thead>\n",
       "  <tbody>\n",
       "    <tr>\n",
       "      <th>count</th>\n",
       "      <td>421.000000</td>\n",
       "      <td>422.000000</td>\n",
       "      <td>256.000000</td>\n",
       "      <td>65.000000</td>\n",
       "      <td>274.000000</td>\n",
       "      <td>274.000000</td>\n",
       "      <td>422.000000</td>\n",
       "      <td>421.000000</td>\n",
       "      <td>421.000000</td>\n",
       "      <td>351.000000</td>\n",
       "      <td>343.000000</td>\n",
       "      <td>65.000000</td>\n",
       "      <td>65.000000</td>\n",
       "    </tr>\n",
       "    <tr>\n",
       "      <th>mean</th>\n",
       "      <td>1573.788599</td>\n",
       "      <td>396.078199</td>\n",
       "      <td>10.715344</td>\n",
       "      <td>5.944154</td>\n",
       "      <td>167.854745</td>\n",
       "      <td>7.355839</td>\n",
       "      <td>0.130540</td>\n",
       "      <td>-19.130926</td>\n",
       "      <td>0.236841</td>\n",
       "      <td>17071.801422</td>\n",
       "      <td>4.260933</td>\n",
       "      <td>2.394154</td>\n",
       "      <td>0.117231</td>\n",
       "    </tr>\n",
       "    <tr>\n",
       "      <th>std</th>\n",
       "      <td>4181.748799</td>\n",
       "      <td>1435.582276</td>\n",
       "      <td>0.972814</td>\n",
       "      <td>3.923606</td>\n",
       "      <td>93.381261</td>\n",
       "      <td>5.604451</td>\n",
       "      <td>0.202398</td>\n",
       "      <td>2.792806</td>\n",
       "      <td>0.108609</td>\n",
       "      <td>129809.646248</td>\n",
       "      <td>6.072945</td>\n",
       "      <td>3.664595</td>\n",
       "      <td>0.130845</td>\n",
       "    </tr>\n",
       "    <tr>\n",
       "      <th>min</th>\n",
       "      <td>0.000000</td>\n",
       "      <td>0.000000</td>\n",
       "      <td>7.693000</td>\n",
       "      <td>0.000000</td>\n",
       "      <td>10.400000</td>\n",
       "      <td>0.700000</td>\n",
       "      <td>0.000000</td>\n",
       "      <td>-24.190000</td>\n",
       "      <td>0.200000</td>\n",
       "      <td>-27.080000</td>\n",
       "      <td>0.130000</td>\n",
       "      <td>0.030000</td>\n",
       "      <td>0.000000</td>\n",
       "    </tr>\n",
       "    <tr>\n",
       "      <th>25%</th>\n",
       "      <td>15.000000</td>\n",
       "      <td>6.000000</td>\n",
       "      <td>9.988500</td>\n",
       "      <td>0.000000</td>\n",
       "      <td>85.150000</td>\n",
       "      <td>3.700000</td>\n",
       "      <td>0.052000</td>\n",
       "      <td>-21.310000</td>\n",
       "      <td>0.200000</td>\n",
       "      <td>-24.664000</td>\n",
       "      <td>1.265000</td>\n",
       "      <td>0.090000</td>\n",
       "      <td>0.000000</td>\n",
       "    </tr>\n",
       "    <tr>\n",
       "      <th>50%</th>\n",
       "      <td>72.000000</td>\n",
       "      <td>17.000000</td>\n",
       "      <td>10.867500</td>\n",
       "      <td>7.950000</td>\n",
       "      <td>168.100000</td>\n",
       "      <td>5.800000</td>\n",
       "      <td>0.081500</td>\n",
       "      <td>-19.590000</td>\n",
       "      <td>0.200000</td>\n",
       "      <td>-23.126000</td>\n",
       "      <td>2.220000</td>\n",
       "      <td>0.160000</td>\n",
       "      <td>0.090000</td>\n",
       "    </tr>\n",
       "    <tr>\n",
       "      <th>75%</th>\n",
       "      <td>660.000000</td>\n",
       "      <td>187.750000</td>\n",
       "      <td>11.406000</td>\n",
       "      <td>8.720000</td>\n",
       "      <td>239.200000</td>\n",
       "      <td>9.675000</td>\n",
       "      <td>0.138500</td>\n",
       "      <td>-16.910000</td>\n",
       "      <td>0.210000</td>\n",
       "      <td>-20.412500</td>\n",
       "      <td>4.540000</td>\n",
       "      <td>6.320000</td>\n",
       "      <td>0.160000</td>\n",
       "    </tr>\n",
       "    <tr>\n",
       "      <th>max</th>\n",
       "      <td>32500.000000</td>\n",
       "      <td>20000.000000</td>\n",
       "      <td>12.726000</td>\n",
       "      <td>10.320000</td>\n",
       "      <td>414.000000</td>\n",
       "      <td>46.500000</td>\n",
       "      <td>2.583000</td>\n",
       "      <td>-11.170000</td>\n",
       "      <td>1.440000</td>\n",
       "      <td>999999.000000</td>\n",
       "      <td>55.000000</td>\n",
       "      <td>9.950000</td>\n",
       "      <td>0.620000</td>\n",
       "    </tr>\n",
       "  </tbody>\n",
       "</table>\n",
       "</div>"
      ],
      "text/plain": [
       "               N_GC      N_GC_err        Mdyn        MBH       sig_e  \\\n",
       "count    421.000000    422.000000  256.000000  65.000000  274.000000   \n",
       "mean    1573.788599    396.078199   10.715344   5.944154  167.854745   \n",
       "std     4181.748799   1435.582276    0.972814   3.923606   93.381261   \n",
       "min        0.000000      0.000000    7.693000   0.000000   10.400000   \n",
       "25%       15.000000      6.000000    9.988500   0.000000   85.150000   \n",
       "50%       72.000000     17.000000   10.867500   7.950000  168.100000   \n",
       "75%      660.000000    187.750000   11.406000   8.720000  239.200000   \n",
       "max    32500.000000  20000.000000   12.726000  10.320000  414.000000   \n",
       "\n",
       "        sig_e_err         A_V        MV_T    MV_T_err             MK  \\\n",
       "count  274.000000  422.000000  421.000000  421.000000     351.000000   \n",
       "mean     7.355839    0.130540  -19.130926    0.236841   17071.801422   \n",
       "std      5.604451    0.202398    2.792806    0.108609  129809.646248   \n",
       "min      0.700000    0.000000  -24.190000    0.200000     -27.080000   \n",
       "25%      3.700000    0.052000  -21.310000    0.200000     -24.664000   \n",
       "50%      5.800000    0.081500  -19.590000    0.200000     -23.126000   \n",
       "75%      9.675000    0.138500  -16.910000    0.210000     -20.412500   \n",
       "max     46.500000    2.583000  -11.170000    1.440000  999999.000000   \n",
       "\n",
       "               Re      upMBH     lowMBH  \n",
       "count  343.000000  65.000000  65.000000  \n",
       "mean     4.260933   2.394154   0.117231  \n",
       "std      6.072945   3.664595   0.130845  \n",
       "min      0.130000   0.030000   0.000000  \n",
       "25%      1.265000   0.090000   0.000000  \n",
       "50%      2.220000   0.160000   0.090000  \n",
       "75%      4.540000   6.320000   0.160000  \n",
       "max     55.000000   9.950000   0.620000  "
      ]
     },
     "metadata": {},
     "output_type": "display_data"
    }
   ],
>>>>>>> Stashed changes
   "source": [
    "#### 2.2 Data Processing \n",
    "<a id='processing'></a> "
   ]
  },
  {
   "cell_type": "markdown",
   "metadata": {},
   "source": []
  },
  {
   "cell_type": "code",
   "execution_count": null,
   "metadata": {},
   "outputs": [],
   "source": []
  },
  {
   "cell_type": "markdown",
   "metadata": {},
   "source": [
    "#### 2.3 Data Visualization\n",
    "<a id='visualization'></a>"
   ]
  },
  {
   "cell_type": "markdown",
   "metadata": {},
   "source": []
  },
  {
   "cell_type": "code",
<<<<<<< Updated upstream
   "execution_count": null,
   "metadata": {},
   "outputs": [],
   "source": []
=======
   "execution_count": 20,
   "metadata": {},
   "outputs": [
    {
     "data": {
      "image/png": "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",
      "text/plain": [
       "<Figure size 1200x400 with 2 Axes>"
      ]
     },
     "metadata": {},
     "output_type": "display_data"
    }
   ],
   "source": [
    "## distributions of parameters using seaborn box plots\n",
    "fig, (ax1,ax2) = plt.subplots(2, sharex=True, gridspec_kw={\"height_ratios\": (.15, .85)}, \n",
    "                              figsize=(12, 4),facecolor='w',edgecolor='k');\n",
    "plot1 = sns.histplot(data=df, x='N_GC', hue='Type', \n",
    "                    legend=False,ax=ax1, fill=True,  alpha=0.1, linewidth=0);\n",
    "plot2 = sns.boxplot(data=df, x = 'N_GC', y='Type',hue='Type',\n",
    "                   ax=ax2);\n",
    "ax2.set_xscale('log');\n",
    "ax1.set_ylabel('');"
   ]
  },
  {
   "cell_type": "code",
   "execution_count": 8,
   "metadata": {},
   "outputs": [
    {
     "data": {
      "text/plain": [
       "<Figure size 2000x1000 with 0 Axes>"
      ]
     },
     "metadata": {},
     "output_type": "display_data"
    },
    {
     "data": {
      "image/png": "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",
      "text/plain": [
       "<Figure size 600x600 with 3 Axes>"
      ]
     },
     "metadata": {},
     "output_type": "display_data"
    },
    {
     "data": {
      "text/plain": [
       "<Figure size 2000x1000 with 0 Axes>"
      ]
     },
     "metadata": {},
     "output_type": "display_data"
    },
    {
     "data": {
      "image/png": "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",
      "text/plain": [
       "<Figure size 600x600 with 3 Axes>"
      ]
     },
     "metadata": {},
     "output_type": "display_data"
    }
   ],
   "source": [
    "## joint plot of number of globular clusters and mass of black hole\n",
    "plt.figure(figsize=(20, 10), facecolor='w', edgecolor='k');\n",
    "plot = sns.jointplot(data=df, x='N_GC',y='MBH',\n",
    "              kind='kde', fill=True);\n",
    "plot.set_axis_labels('Number of Globular Clusters (N$_{GC}$)', 'Mass of Central\\n Black Hole (M$_{BH}$)', fontsize=10);\n",
    "plot.ax_marg_x.set_xlim(-5000, 20000);\n",
    "plt.show();\n",
    "\n",
    "## joint plot of number of globular clusters and mass of black hole by type\n",
    "plt.figure(figsize=(20, 10), facecolor='w', edgecolor='k');\n",
    "plot = sns.jointplot(data=df, x='N_GC',y='MBH', hue='Type',\n",
    "              kind='kde', fill=True, alpha=0.5);\n",
    "plot.ax_marg_x.set_xlim(-5000, 20000);\n",
    "plt.show();"
   ]
>>>>>>> Stashed changes
  },
  {
   "cell_type": "markdown",
   "metadata": {},
   "source": [
    "### 3. Bayesian Analysis\n",
    "<a id='analysis'></a>"
   ]
  },
  {
   "cell_type": "markdown",
   "metadata": {},
   "source": []
  },
  {
   "cell_type": "markdown",
   "metadata": {},
   "source": [
    "#### 3.1 Components of Statistical Model\n",
    "<a id='model'></a>"
   ]
  },
  {
   "cell_type": "markdown",
   "metadata": {},
   "source": []
  },
  {
   "cell_type": "code",
   "execution_count": null,
   "metadata": {},
   "outputs": [],
   "source": []
  },
  {
   "cell_type": "markdown",
   "metadata": {},
   "source": [
    "#### 3.2 Prior Predicitive Check\n",
    "<a id='prior'></a>"
   ]
  },
  {
   "cell_type": "markdown",
   "metadata": {},
   "source": []
  },
  {
   "cell_type": "code",
   "execution_count": null,
   "metadata": {},
   "outputs": [],
   "source": []
  },
  {
   "cell_type": "markdown",
   "metadata": {},
   "source": [
    "##### 3.3 Posterior \n",
    "<a id='posterior'></a>"
   ]
  },
  {
   "cell_type": "markdown",
   "metadata": {},
   "source": []
  },
  {
   "cell_type": "code",
   "execution_count": null,
   "metadata": {},
   "outputs": [],
   "source": []
  },
  {
   "cell_type": "markdown",
   "metadata": {},
   "source": [
    "#### 3.4 Sensitivity Analysis\n",
    "<a id='sensitivity'></a>"
   ]
  },
  {
   "cell_type": "markdown",
   "metadata": {},
   "source": []
  },
  {
   "cell_type": "code",
   "execution_count": null,
   "metadata": {},
   "outputs": [],
   "source": []
  },
  {
   "cell_type": "markdown",
   "metadata": {},
   "source": [
    "### 4. Results\n",
    "<a id='results'></a>"
   ]
  },
  {
   "cell_type": "markdown",
   "metadata": {},
   "source": []
  }
 ],
 "metadata": {
  "kernelspec": {
   "display_name": "Python 3.9.13 ('ast5731')",
   "language": "python",
   "name": "python3"
  },
  "language_info": {
   "codemirror_mode": {
    "name": "ipython",
    "version": 3
   },
   "file_extension": ".py",
   "mimetype": "text/x-python",
   "name": "python",
   "nbconvert_exporter": "python",
   "pygments_lexer": "ipython3",
   "version": "3.9.13"
  },
  "orig_nbformat": 4,
  "vscode": {
   "interpreter": {
    "hash": "151f9495ada1c6bc4c2945de8ae9d396e597edb748e3954891ddc729604149b2"
   }
  }
 },
 "nbformat": 4,
 "nbformat_minor": 2
}
