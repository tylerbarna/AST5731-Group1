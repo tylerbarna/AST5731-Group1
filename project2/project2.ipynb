{
 "cells": [
  {
   "cell_type": "markdown",
   "metadata": {},
   "source": [
    "# Note: in markdown cells, It's probably easiest to leave any notes we intend to remove before submission with red text or something along those lines. That way, we can easily find them later and remove them before submitting. \n",
    "\n",
    "Red text can be added in markdown cells with the following syntax: \\<font color='red'\\>text\\</font\\> (replace 'text' with the text you want to be red). It'll look like this: <font color='red'>text</font>\n"
   ]
  },
  {
   "cell_type": "markdown",
   "metadata": {},
   "source": [
    "### AST 5731 \n",
    "#### Group 3 - Project 2\n",
    "#### Group Members: Thomas Atkins, Tyler Barna, Tore Boybei, and Haowen Zhong"
   ]
  },
  {
   "cell_type": "markdown",
   "metadata": {},
   "source": [
    "#### Contents\n",
    "\n",
    "<font color='red'> the hyperlinks won't work when viewing the notebook on github, but they should work when viewing the notebook on jupyter notebook or when exported as an html file </font>\n",
    "\n",
    "<font color='red'>some of these sections may not be necessary/some more may be needed</font>"
   ]
  },
  {
   "cell_type": "markdown",
   "metadata": {},
   "source": [
    " 1. [Introduction](#introduction)\n",
    " 2. [Data](#data)  \n",
    "    2.1 [Importing Data](#importing-data)    \n",
    "    2.2 [Data Visualization](#visualization)\n",
    " 3. [Analysis](#analysis)   \n",
    "    3.1 [Components of Statistical Model](#model)  \n",
    "    3.2 [Prior Predictive Check](#prior)     \n",
    "    3.3 [Posterior](#posterior)     \n",
    "    3.4 [Sensitivity Analysis](#senstivity)\n",
    " 4. [Results](#results)"
   ]
  },
  {
   "cell_type": "markdown",
   "metadata": {},
   "source": [
    "### 1. Introduction \n",
    "<a id='introduction'></a>"
   ]
  },
  {
   "cell_type": "markdown",
   "metadata": {},
   "source": []
  },
  {
   "cell_type": "markdown",
   "metadata": {},
   "source": [
    "### 2. Data\n",
    "<a id='data'></a>"
   ]
  },
  {
   "cell_type": "markdown",
   "metadata": {},
   "source": []
  },
  {
   "cell_type": "markdown",
   "metadata": {},
   "source": [
    "Note: Our project was run on python 3.9.13, and an environment package detailing the versions for all packages used can be found [here](https://github.com/tylerbarna/AST5731-projects/blob/main/environment.yml)."
   ]
  },
  {
   "cell_type": "markdown",
   "metadata": {},
   "source": [
    "Importing packages used for project: \n",
    "\n",
    "<font color='red'> not all of these may end up being needed, can remove stray packages at end</font>"
   ]
  },
  {
   "cell_type": "code",
   "execution_count": 22,
   "metadata": {},
   "outputs": [],
   "source": [
    "import csv\n",
    "import dis\n",
    "import inspect\n",
    "import os\n",
    "import sys\n",
    "import time\n",
    "\n",
    "import astropy\n",
    "import astroquery\n",
    "import matplotlib as mpl\n",
    "import matplotlib.pyplot as plt\n",
    "import numpy as np\n",
    "import pandas as pd\n",
    "import pymc as mc\n",
    "import random\n",
    "import scipy as sp\n",
    "import scipy.stats as stats\n",
    "import seaborn as sns\n",
    "import time\n",
    "import warnings\n",
    "warnings.filterwarnings('ignore')\n",
    "\n",
    "from astropy import units as u\n",
    "from astropy import constants as const\n",
    "from astropy.coordinates import SkyCoord\n",
    "from astropy.io import fits\n",
    "from astropy.io import ascii\n",
    "from astropy.time import Time\n",
    "from astropy.time import TimeDelta\n",
    "from astropy.timeseries import TimeSeries\n",
    "from astropy.visualization import time_support\n",
    "time_support()\n",
    "from astropy.visualization import quantity_support\n",
    "quantity_support()\n",
    "\n",
    "from IPython.display import display_html\n",
    "from IPython.display import Image\n",
    "\n",
    "from numpy import interp\n",
    "\n",
    "from scipy import integrate\n",
    "from scipy import linalg as la\n",
    "from scipy import optimize\n",
    "\n",
    "from scipy.stats import beta\n",
    "from scipy.stats import betabinom\n",
    "from scipy.stats import binom\n",
    "from scipy.stats import gamma\n",
    "from scipy.stats import invgamma\n",
    "from scipy.stats import multivariate_normal as mvn\n",
    "from scipy.stats import nbinom\n",
    "from scipy.stats import norm\n",
    "from scipy.stats import poisson\n",
    "from scipy.stats import t\n",
    "from scipy.stats import uniform\n",
    "\n",
    "from sklearn import preprocessing as pp\n",
    "\n",
    "%matplotlib inline\n",
    "plt.style.use(\"seaborn-colorblind\")\n",
    "mpl.rcParams.update({\"axes.grid\" : False})\n",
    "plt.style.context((\"seaborn-colorblind\",))\n",
    "\n",
    "## set seed for reproducibility\n",
    "random.seed(5731)"
   ]
  },
  {
   "cell_type": "markdown",
   "metadata": {},
   "source": [
    "#### 2.1 Importing Data\n",
    "<a id='importing'></a>  "
   ]
  },
  {
   "cell_type": "markdown",
   "metadata": {},
   "source": []
  },
  {
   "cell_type": "code",
   "execution_count": 17,
   "metadata": {},
   "outputs": [
    {
     "data": {
      "text/html": [
       "<div>\n",
       "<style scoped>\n",
       "    .dataframe tbody tr th:only-of-type {\n",
       "        vertical-align: middle;\n",
       "    }\n",
       "\n",
       "    .dataframe tbody tr th {\n",
       "        vertical-align: top;\n",
       "    }\n",
       "\n",
       "    .dataframe thead th {\n",
       "        text-align: right;\n",
       "    }\n",
       "</style>\n",
       "<table border=\"1\" class=\"dataframe\">\n",
       "  <thead>\n",
       "    <tr style=\"text-align: right;\">\n",
       "      <th></th>\n",
       "      <th>Galaxy</th>\n",
       "      <th>Type</th>\n",
       "      <th>N_GC</th>\n",
       "      <th>N_GC_err</th>\n",
       "      <th>Mdyn</th>\n",
       "      <th>MBH</th>\n",
       "      <th>sig_e</th>\n",
       "      <th>sig_e_err</th>\n",
       "      <th>A_V</th>\n",
       "      <th>MV_T</th>\n",
       "      <th>MV_T_err</th>\n",
       "      <th>MK</th>\n",
       "      <th>Re</th>\n",
       "      <th>upMBH</th>\n",
       "      <th>lowMBH</th>\n",
       "    </tr>\n",
       "  </thead>\n",
       "  <tbody>\n",
       "    <tr>\n",
       "      <th>1</th>\n",
       "      <td>MilkyWay</td>\n",
       "      <td>S</td>\n",
       "      <td>160.0</td>\n",
       "      <td>10.0</td>\n",
       "      <td>9.856</td>\n",
       "      <td>6.61</td>\n",
       "      <td>105.0</td>\n",
       "      <td>20.0</td>\n",
       "      <td>0.000</td>\n",
       "      <td>-21.30</td>\n",
       "      <td>0.30</td>\n",
       "      <td>NaN</td>\n",
       "      <td>0.70</td>\n",
       "      <td>0.04</td>\n",
       "      <td>0.04</td>\n",
       "    </tr>\n",
       "    <tr>\n",
       "      <th>2</th>\n",
       "      <td>WLM</td>\n",
       "      <td>Irr</td>\n",
       "      <td>1.0</td>\n",
       "      <td>0.0</td>\n",
       "      <td>NaN</td>\n",
       "      <td>NaN</td>\n",
       "      <td>NaN</td>\n",
       "      <td>NaN</td>\n",
       "      <td>0.088</td>\n",
       "      <td>-14.84</td>\n",
       "      <td>0.20</td>\n",
       "      <td>NaN</td>\n",
       "      <td>NaN</td>\n",
       "      <td>NaN</td>\n",
       "      <td>NaN</td>\n",
       "    </tr>\n",
       "    <tr>\n",
       "      <th>3</th>\n",
       "      <td>NGC7814</td>\n",
       "      <td>S</td>\n",
       "      <td>150.0</td>\n",
       "      <td>40.0</td>\n",
       "      <td>10.879</td>\n",
       "      <td>NaN</td>\n",
       "      <td>169.2</td>\n",
       "      <td>7.2</td>\n",
       "      <td>0.147</td>\n",
       "      <td>-20.18</td>\n",
       "      <td>0.28</td>\n",
       "      <td>-23.531</td>\n",
       "      <td>2.84</td>\n",
       "      <td>NaN</td>\n",
       "      <td>NaN</td>\n",
       "    </tr>\n",
       "    <tr>\n",
       "      <th>4</th>\n",
       "      <td>NGC55</td>\n",
       "      <td>S</td>\n",
       "      <td>36.0</td>\n",
       "      <td>15.0</td>\n",
       "      <td>NaN</td>\n",
       "      <td>NaN</td>\n",
       "      <td>NaN</td>\n",
       "      <td>NaN</td>\n",
       "      <td>0.036</td>\n",
       "      <td>-18.77</td>\n",
       "      <td>0.20</td>\n",
       "      <td>-20.356</td>\n",
       "      <td>2.31</td>\n",
       "      <td>NaN</td>\n",
       "      <td>NaN</td>\n",
       "    </tr>\n",
       "    <tr>\n",
       "      <th>5</th>\n",
       "      <td>NGC147</td>\n",
       "      <td>E</td>\n",
       "      <td>10.0</td>\n",
       "      <td>2.0</td>\n",
       "      <td>8.408</td>\n",
       "      <td>NaN</td>\n",
       "      <td>22.0</td>\n",
       "      <td>5.0</td>\n",
       "      <td>0.475</td>\n",
       "      <td>-15.46</td>\n",
       "      <td>0.30</td>\n",
       "      <td>-17.254</td>\n",
       "      <td>0.57</td>\n",
       "      <td>NaN</td>\n",
       "      <td>NaN</td>\n",
       "    </tr>\n",
       "  </tbody>\n",
       "</table>\n",
       "</div>"
      ],
      "text/plain": [
       "     Galaxy Type   N_GC  N_GC_err    Mdyn   MBH  sig_e  sig_e_err    A_V  \\\n",
       "1  MilkyWay    S  160.0      10.0   9.856  6.61  105.0       20.0  0.000   \n",
       "2       WLM  Irr    1.0       0.0     NaN   NaN    NaN        NaN  0.088   \n",
       "3   NGC7814    S  150.0      40.0  10.879   NaN  169.2        7.2  0.147   \n",
       "4     NGC55    S   36.0      15.0     NaN   NaN    NaN        NaN  0.036   \n",
       "5    NGC147    E   10.0       2.0   8.408   NaN   22.0        5.0  0.475   \n",
       "\n",
       "    MV_T  MV_T_err      MK    Re  upMBH  lowMBH  \n",
       "1 -21.30      0.30     NaN  0.70   0.04    0.04  \n",
       "2 -14.84      0.20     NaN   NaN    NaN     NaN  \n",
       "3 -20.18      0.28 -23.531  2.84    NaN     NaN  \n",
       "4 -18.77      0.20 -20.356  2.31    NaN     NaN  \n",
       "5 -15.46      0.30 -17.254  0.57    NaN     NaN  "
      ]
     },
     "metadata": {},
     "output_type": "display_data"
    },
    {
     "data": {
      "text/html": [
       "<div>\n",
       "<style scoped>\n",
       "    .dataframe tbody tr th:only-of-type {\n",
       "        vertical-align: middle;\n",
       "    }\n",
       "\n",
       "    .dataframe tbody tr th {\n",
       "        vertical-align: top;\n",
       "    }\n",
       "\n",
       "    .dataframe thead th {\n",
       "        text-align: right;\n",
       "    }\n",
       "</style>\n",
       "<table border=\"1\" class=\"dataframe\">\n",
       "  <thead>\n",
       "    <tr style=\"text-align: right;\">\n",
       "      <th></th>\n",
       "      <th>N_GC</th>\n",
       "      <th>N_GC_err</th>\n",
       "      <th>Mdyn</th>\n",
       "      <th>MBH</th>\n",
       "      <th>sig_e</th>\n",
       "      <th>sig_e_err</th>\n",
       "      <th>A_V</th>\n",
       "      <th>MV_T</th>\n",
       "      <th>MV_T_err</th>\n",
       "      <th>MK</th>\n",
       "      <th>Re</th>\n",
       "      <th>upMBH</th>\n",
       "      <th>lowMBH</th>\n",
       "    </tr>\n",
       "  </thead>\n",
       "  <tbody>\n",
       "    <tr>\n",
       "      <th>count</th>\n",
       "      <td>421.000000</td>\n",
       "      <td>422.000000</td>\n",
       "      <td>256.000000</td>\n",
       "      <td>65.000000</td>\n",
       "      <td>274.000000</td>\n",
       "      <td>274.000000</td>\n",
       "      <td>422.000000</td>\n",
       "      <td>421.000000</td>\n",
       "      <td>421.000000</td>\n",
       "      <td>351.000000</td>\n",
       "      <td>343.000000</td>\n",
       "      <td>65.000000</td>\n",
       "      <td>65.000000</td>\n",
       "    </tr>\n",
       "    <tr>\n",
       "      <th>mean</th>\n",
       "      <td>1573.788599</td>\n",
       "      <td>396.078199</td>\n",
       "      <td>10.715344</td>\n",
       "      <td>5.944154</td>\n",
       "      <td>167.854745</td>\n",
       "      <td>7.355839</td>\n",
       "      <td>0.130540</td>\n",
       "      <td>-19.130926</td>\n",
       "      <td>0.236841</td>\n",
       "      <td>17071.801422</td>\n",
       "      <td>4.260933</td>\n",
       "      <td>2.394154</td>\n",
       "      <td>0.117231</td>\n",
       "    </tr>\n",
       "    <tr>\n",
       "      <th>std</th>\n",
       "      <td>4181.748799</td>\n",
       "      <td>1435.582276</td>\n",
       "      <td>0.972814</td>\n",
       "      <td>3.923606</td>\n",
       "      <td>93.381261</td>\n",
       "      <td>5.604451</td>\n",
       "      <td>0.202398</td>\n",
       "      <td>2.792806</td>\n",
       "      <td>0.108609</td>\n",
       "      <td>129809.646248</td>\n",
       "      <td>6.072945</td>\n",
       "      <td>3.664595</td>\n",
       "      <td>0.130845</td>\n",
       "    </tr>\n",
       "    <tr>\n",
       "      <th>min</th>\n",
       "      <td>0.000000</td>\n",
       "      <td>0.000000</td>\n",
       "      <td>7.693000</td>\n",
       "      <td>0.000000</td>\n",
       "      <td>10.400000</td>\n",
       "      <td>0.700000</td>\n",
       "      <td>0.000000</td>\n",
       "      <td>-24.190000</td>\n",
       "      <td>0.200000</td>\n",
       "      <td>-27.080000</td>\n",
       "      <td>0.130000</td>\n",
       "      <td>0.030000</td>\n",
       "      <td>0.000000</td>\n",
       "    </tr>\n",
       "    <tr>\n",
       "      <th>25%</th>\n",
       "      <td>15.000000</td>\n",
       "      <td>6.000000</td>\n",
       "      <td>9.988500</td>\n",
       "      <td>0.000000</td>\n",
       "      <td>85.150000</td>\n",
       "      <td>3.700000</td>\n",
       "      <td>0.052000</td>\n",
       "      <td>-21.310000</td>\n",
       "      <td>0.200000</td>\n",
       "      <td>-24.664000</td>\n",
       "      <td>1.265000</td>\n",
       "      <td>0.090000</td>\n",
       "      <td>0.000000</td>\n",
       "    </tr>\n",
       "    <tr>\n",
       "      <th>50%</th>\n",
       "      <td>72.000000</td>\n",
       "      <td>17.000000</td>\n",
       "      <td>10.867500</td>\n",
       "      <td>7.950000</td>\n",
       "      <td>168.100000</td>\n",
       "      <td>5.800000</td>\n",
       "      <td>0.081500</td>\n",
       "      <td>-19.590000</td>\n",
       "      <td>0.200000</td>\n",
       "      <td>-23.126000</td>\n",
       "      <td>2.220000</td>\n",
       "      <td>0.160000</td>\n",
       "      <td>0.090000</td>\n",
       "    </tr>\n",
       "    <tr>\n",
       "      <th>75%</th>\n",
       "      <td>660.000000</td>\n",
       "      <td>187.750000</td>\n",
       "      <td>11.406000</td>\n",
       "      <td>8.720000</td>\n",
       "      <td>239.200000</td>\n",
       "      <td>9.675000</td>\n",
       "      <td>0.138500</td>\n",
       "      <td>-16.910000</td>\n",
       "      <td>0.210000</td>\n",
       "      <td>-20.412500</td>\n",
       "      <td>4.540000</td>\n",
       "      <td>6.320000</td>\n",
       "      <td>0.160000</td>\n",
       "    </tr>\n",
       "    <tr>\n",
       "      <th>max</th>\n",
       "      <td>32500.000000</td>\n",
       "      <td>20000.000000</td>\n",
       "      <td>12.726000</td>\n",
       "      <td>10.320000</td>\n",
       "      <td>414.000000</td>\n",
       "      <td>46.500000</td>\n",
       "      <td>2.583000</td>\n",
       "      <td>-11.170000</td>\n",
       "      <td>1.440000</td>\n",
       "      <td>999999.000000</td>\n",
       "      <td>55.000000</td>\n",
       "      <td>9.950000</td>\n",
       "      <td>0.620000</td>\n",
       "    </tr>\n",
       "  </tbody>\n",
       "</table>\n",
       "</div>"
      ],
      "text/plain": [
       "               N_GC      N_GC_err        Mdyn        MBH       sig_e  \\\n",
       "count    421.000000    422.000000  256.000000  65.000000  274.000000   \n",
       "mean    1573.788599    396.078199   10.715344   5.944154  167.854745   \n",
       "std     4181.748799   1435.582276    0.972814   3.923606   93.381261   \n",
       "min        0.000000      0.000000    7.693000   0.000000   10.400000   \n",
       "25%       15.000000      6.000000    9.988500   0.000000   85.150000   \n",
       "50%       72.000000     17.000000   10.867500   7.950000  168.100000   \n",
       "75%      660.000000    187.750000   11.406000   8.720000  239.200000   \n",
       "max    32500.000000  20000.000000   12.726000  10.320000  414.000000   \n",
       "\n",
       "        sig_e_err         A_V        MV_T    MV_T_err             MK  \\\n",
       "count  274.000000  422.000000  421.000000  421.000000     351.000000   \n",
       "mean     7.355839    0.130540  -19.130926    0.236841   17071.801422   \n",
       "std      5.604451    0.202398    2.792806    0.108609  129809.646248   \n",
       "min      0.700000    0.000000  -24.190000    0.200000     -27.080000   \n",
       "25%      3.700000    0.052000  -21.310000    0.200000     -24.664000   \n",
       "50%      5.800000    0.081500  -19.590000    0.200000     -23.126000   \n",
       "75%      9.675000    0.138500  -16.910000    0.210000     -20.412500   \n",
       "max     46.500000    2.583000  -11.170000    1.440000  999999.000000   \n",
       "\n",
       "               Re      upMBH     lowMBH  \n",
       "count  343.000000  65.000000  65.000000  \n",
       "mean     4.260933   2.394154   0.117231  \n",
       "std      6.072945   3.664595   0.130845  \n",
       "min      0.130000   0.030000   0.000000  \n",
       "25%      1.265000   0.090000   0.000000  \n",
       "50%      2.220000   0.160000   0.090000  \n",
       "75%      4.540000   6.320000   0.160000  \n",
       "max     55.000000   9.950000   0.620000  "
      ]
     },
     "metadata": {},
     "output_type": "display_data"
    }
   ],
   "source": [
    "df = pd.read_csv('dat.txt',index_col=0,\n",
    "                 dtype={'Galaxy':str, 'Type':str,\n",
    "                        'N_GC':np.float64, 'N_GC_err':np.float64,\n",
    "                        'Mdyn':np.float64, 'MBH':np.float64,\n",
    "                        'sig_e':np.float64, 'err_sig_e':np.float64,\n",
    "                        'A_V':np.float64, 'MV_T':np.float64,\n",
    "                        'err_MV_T':np.float64, 'MK':np.float64,\n",
    "                        'Re':np.float64, 'upMBH':np.float64,\n",
    "                        'lowMBH':np.float64\n",
    "                        })\n",
    "df.rename({'err_sig_e':'sig_e_err', 'err_MV_T':'MV_T_err'}, axis=1, inplace=True) ## for consistency\n",
    "display(df.head())\n",
    "display(df.describe())"
   ]
  },
  {
   "cell_type": "markdown",
   "metadata": {},
   "source": [
    "#### 2.3 Data Visualization\n",
    "<a id='visualization'></a>"
   ]
  },
  {
   "cell_type": "markdown",
   "metadata": {},
   "source": []
  },
  {
   "cell_type": "code",
   "execution_count": 33,
   "metadata": {},
   "outputs": [
    {
     "data": {
      "text/plain": [
       "<Figure size 1440x720 with 0 Axes>"
      ]
     },
     "metadata": {},
     "output_type": "display_data"
    },
    {
     "data": {
      "image/png": "[encoded data removed]",
      "text/plain": [
       "<Figure size 432x432 with 3 Axes>"
      ]
     },
     "metadata": {
      "needs_background": "light"
     },
     "output_type": "display_data"
    },
    {
     "data": {
      "text/plain": [
       "<Figure size 1440x720 with 0 Axes>"
      ]
     },
     "metadata": {},
     "output_type": "display_data"
    },
    {
     "data": {
      "image/png": "[encoded data removed]",
      "text/plain": [
       "<Figure size 432x432 with 3 Axes>"
      ]
     },
     "metadata": {
      "needs_background": "light"
     },
     "output_type": "display_data"
    }
   ],
   "source": [
    "## joint plot of number of globular clusters and mass of black hole\n",
    "plt.figure(figsize=(20, 10), facecolor='w', edgecolor='k');\n",
    "plot = sns.jointplot(data=df, x='N_GC',y='MBH',\n",
    "              kind='kde', fill=True);\n",
    "plot.ax_marg_x.set_xlim(-5000, 20000);\n",
    "plt.show();\n",
    "\n",
    "## joint plot of number of globular clusters and mass of black hole by type\n",
    "plt.figure(figsize=(20, 10), facecolor='w', edgecolor='k');\n",
    "plot = sns.jointplot(data=df, x='N_GC',y='MBH', hue='Type',\n",
    "              kind='kde', fill=True, alpha=0.5);\n",
    "plot.ax_marg_x.set_xlim(-5000, 20000);\n",
    "plt.show();"
   ]
  },
  {
   "cell_type": "markdown",
   "metadata": {},
   "source": [
    "### 3. Bayesian Analysis\n",
    "<a id='analysis'></a>"
   ]
  },
  {
   "cell_type": "markdown",
   "metadata": {},
   "source": []
  },
  {
   "cell_type": "markdown",
   "metadata": {},
   "source": [
    "#### 3.1 Components of Statistical Model\n",
    "<a id='model'></a>"
   ]
  },
  {
   "cell_type": "markdown",
   "metadata": {},
   "source": []
  },
  {
   "cell_type": "code",
   "execution_count": null,
   "metadata": {},
   "outputs": [],
   "source": []
  },
  {
   "cell_type": "markdown",
   "metadata": {},
   "source": [
    "#### 3.2 Prior Predicitive Check\n",
    "<a id='prior'></a>"
   ]
  },
  {
   "cell_type": "markdown",
   "metadata": {},
   "source": []
  },
  {
   "cell_type": "code",
   "execution_count": null,
   "metadata": {},
   "outputs": [],
   "source": []
  },
  {
   "cell_type": "markdown",
   "metadata": {},
   "source": [
    "##### 3.3 Posterior \n",
    "<a id='posterior'></a>"
   ]
  },
  {
   "cell_type": "markdown",
   "metadata": {},
   "source": []
  },
  {
   "cell_type": "code",
   "execution_count": null,
   "metadata": {},
   "outputs": [],
   "source": []
  },
  {
   "cell_type": "markdown",
   "metadata": {},
   "source": [
    "#### 3.4 Sensitivity Analysis\n",
    "<a id='sensitivity'></a>"
   ]
  },
  {
   "cell_type": "markdown",
   "metadata": {},
   "source": []
  },
  {
   "cell_type": "code",
   "execution_count": null,
   "metadata": {},
   "outputs": [],
   "source": []
  },
  {
   "cell_type": "markdown",
   "metadata": {},
   "source": [
    "### 4. Results\n",
    "<a id='results'></a>"
   ]
  },
  {
   "cell_type": "markdown",
   "metadata": {},
   "source": []
  }
 ],
 "metadata": {
  "kernelspec": {
   "display_name": "Python 3.9.13 ('ast5731')",
   "language": "python",
   "name": "python3"
  },
  "language_info": {
   "codemirror_mode": {
    "name": "ipython",
    "version": 3
   },
   "file_extension": ".py",
   "mimetype": "text/x-python",
   "name": "python",
   "nbconvert_exporter": "python",
   "pygments_lexer": "ipython3",
   "version": "3.9.13"
  },
  "orig_nbformat": 4,
  "vscode": {
   "interpreter": {
    "hash": "48ba337186cdeb473066c6f1845eedde2b671a74890cc3a14f1c7d6e319b96ea"
   }
  }
 },
 "nbformat": 4,
 "nbformat_minor": 2
}
