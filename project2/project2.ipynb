{
 "cells": [
  {
   "cell_type": "markdown",
   "metadata": {},
   "source": [
    "# Note: in markdown cells, It's probably easiest to leave any notes we intend to remove before submission with red text or something along those lines. That way, we can easily find them later and remove them before submitting. \n",
    "\n",
    "Red text can be added in markdown cells with the following syntax: \\<font color='red'\\>text\\</font\\> (replace 'text' with the text you want to be red). It'll look like this: <font color='red'>text</font>\n"
   ]
  },
  {
   "cell_type": "markdown",
   "metadata": {},
   "source": [
    "### AST 5731 \n",
    "#### Group 3 - Project 2\n",
    "#### Group Members: Thomas Atkins, Tyler Barna, Tore Boybei, and Haowen Zhong"
   ]
  },
  {
   "cell_type": "markdown",
   "metadata": {},
   "source": [
    "#### Contents"
   ]
  },
  {
   "cell_type": "markdown",
   "metadata": {},
   "source": [
    " 1.   [Introduction](#introduction)\n",
    " 2.   [Data](#data)  \n",
    "    2.1 [Importing Data](#importing-data)    \n",
    "   2.2 [Data Processing](#processing)  \n",
    "   2.3 [Data Visualization](#visualization)\n",
    " 3.   [Analysis](#analysis)   \n",
    "    3.1 [Components of Statistical Model](#model)  \n",
    "    3.2 [Prior Predictive Check](#prior)     \n",
    "    3.3 [Posterior](#posterior)     \n",
    "    3.4 [Sensitivity Analysis](#senstivity)\n",
    " 4.   [Results](#results)"
   ]
  },
  {
   "cell_type": "code",
   "execution_count": 1,
   "metadata": {},
   "outputs": [
    {
     "ename": "ModuleNotFoundError",
     "evalue": "No module named 'pymc'",
     "output_type": "error",
     "traceback": [
      "\u001b[0;31m---------------------------------------------------------------------------\u001b[0m",
      "\u001b[0;31mModuleNotFoundError\u001b[0m                       Traceback (most recent call last)",
      "Cell \u001b[0;32mIn [1], line 1\u001b[0m\n\u001b[0;32m----> 1\u001b[0m \u001b[39mimport\u001b[39;00m \u001b[39mpymc\u001b[39;00m\n",
      "\u001b[0;31mModuleNotFoundError\u001b[0m: No module named 'pymc'"
     ]
    }
   ],
   "source": [
    "import pymc"
   ]
  }
 ],
 "metadata": {
  "kernelspec": {
   "display_name": "Python 3.9.13 ('ast5731')",
   "language": "python",
   "name": "python3"
  },
  "language_info": {
   "name": "python",
   "version": "3.9.13"
  },
  "orig_nbformat": 4,
  "vscode": {
   "interpreter": {
    "hash": "151f9495ada1c6bc4c2945de8ae9d396e597edb748e3954891ddc729604149b2"
   }
  }
 },
 "nbformat": 4,
 "nbformat_minor": 2
}
